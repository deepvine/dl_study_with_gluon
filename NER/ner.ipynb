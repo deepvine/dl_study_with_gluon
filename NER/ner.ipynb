{
 "cells": [
  {
   "cell_type": "code",
   "execution_count": 12,
   "metadata": {},
   "outputs": [],
   "source": [
    "import glob\n",
    "import mxnet as mx\n",
    "from mxnet.gluon import nn, rnn\n",
    "import gluonnlp as nlp\n",
    "import pandas as pd\n",
    "import numpy as np\n",
    "from mxnet import gluon, autograd\n",
    "from mxnet import nd\n",
    "import mxnet as mx\n",
    "import time\n",
    "import itertools\n",
    "from tqdm import tqdm\n",
    "import multiprocessing as mp\n",
    "from konlpy.tag import Twitter"
   ]
  },
  {
   "cell_type": "code",
   "execution_count": 6,
   "metadata": {},
   "outputs": [],
   "source": [
    "twitter = Twitter()"
   ]
  },
  {
   "cell_type": "code",
   "execution_count": 7,
   "metadata": {},
   "outputs": [],
   "source": [
    "# -*- coding: utf-8 -*-\n",
    "from __future__ import unicode_literals, print_function\n",
    "\n",
    "import re\n",
    "import codecs\n",
    "\n",
    "def raw2corpus(raw_path, corpus_path):\n",
    "    raw = codecs.open(raw_path, encoding='utf-8')\n",
    "    raw_sentences = raw.read().split('\\n')\n",
    "    corpus = codecs.open(corpus_path, 'w', encoding='utf-8')\n",
    "    sentences = []\n",
    "    for raw_sentence in raw_sentences:\n",
    "        if not raw_sentence:\n",
    "            continue\n",
    "        text = re.sub(r'(\\ )+', ' ', raw_sentence).strip()\n",
    "        taggeds = []\n",
    "        for i in range(len(text)):\n",
    "            if i == 0:\n",
    "                taggeds.append('{}/B'.format(text[i]))\n",
    "            elif text[i] != ' ':\n",
    "                successor = text[i - 1]\n",
    "                if successor == ' ':\n",
    "                    taggeds.append('{}/B'.format(text[i]))\n",
    "                else:\n",
    "                    taggeds.append('{}/I'.format(text[i]))\n",
    "        sentences.append(' '.join(taggeds))\n",
    "    corpus.write('\\n'.join(sentences))"
   ]
  },
  {
   "cell_type": "code",
   "execution_count": 26,
   "metadata": {},
   "outputs": [],
   "source": [
    "path=r'/media/chatbot/DataStorage/KoreaAI/ko-ner/101 movie/2012'\n",
    "allFiles = glob.glob(path + \"/*.csv\")\n",
    "list_ = []"
   ]
  },
  {
   "cell_type": "code",
   "execution_count": 27,
   "metadata": {},
   "outputs": [
    {
     "data": {
      "text/plain": [
       "['/media/chatbot/DataStorage/KoreaAI/ko-ner/101 movie/2012/20125647.csv',\n",
       " '/media/chatbot/DataStorage/KoreaAI/ko-ner/101 movie/2012/20124057.csv',\n",
       " '/media/chatbot/DataStorage/KoreaAI/ko-ner/101 movie/2012/20113643.csv',\n",
       " '/media/chatbot/DataStorage/KoreaAI/ko-ner/101 movie/2012/20110312.csv',\n",
       " '/media/chatbot/DataStorage/KoreaAI/ko-ner/101 movie/2012/20124136.csv',\n",
       " '/media/chatbot/DataStorage/KoreaAI/ko-ner/101 movie/2012/20128687.csv',\n",
       " '/media/chatbot/DataStorage/KoreaAI/ko-ner/101 movie/2012/20124721.csv',\n",
       " '/media/chatbot/DataStorage/KoreaAI/ko-ner/101 movie/2012/20124045.csv',\n",
       " '/media/chatbot/DataStorage/KoreaAI/ko-ner/101 movie/2012/20124051.csv',\n",
       " '/media/chatbot/DataStorage/KoreaAI/ko-ner/101 movie/2012/20124067.csv',\n",
       " '/media/chatbot/DataStorage/KoreaAI/ko-ner/101 movie/2012/20126407.csv',\n",
       " '/media/chatbot/DataStorage/KoreaAI/ko-ner/101 movie/2012/20112703.csv',\n",
       " '/media/chatbot/DataStorage/KoreaAI/ko-ner/101 movie/2012/20127887.csv',\n",
       " '/media/chatbot/DataStorage/KoreaAI/ko-ner/101 movie/2012/20124946.csv',\n",
       " '/media/chatbot/DataStorage/KoreaAI/ko-ner/101 movie/2012/20124055.csv',\n",
       " '/media/chatbot/DataStorage/KoreaAI/ko-ner/101 movie/2012/20124096.csv',\n",
       " '/media/chatbot/DataStorage/KoreaAI/ko-ner/101 movie/2012/20127634.csv',\n",
       " '/media/chatbot/DataStorage/KoreaAI/ko-ner/101 movie/2012/20113885.csv',\n",
       " '/media/chatbot/DataStorage/KoreaAI/ko-ner/101 movie/2012/20124034.csv',\n",
       " '/media/chatbot/DataStorage/KoreaAI/ko-ner/101 movie/2012/20124066.csv',\n",
       " '/media/chatbot/DataStorage/KoreaAI/ko-ner/101 movie/2012/20113889.csv',\n",
       " '/media/chatbot/DataStorage/KoreaAI/ko-ner/101 movie/2012/20125920.csv',\n",
       " '/media/chatbot/DataStorage/KoreaAI/ko-ner/101 movie/2012/20125406.csv',\n",
       " '/media/chatbot/DataStorage/KoreaAI/ko-ner/101 movie/2012/20126409.csv',\n",
       " '/media/chatbot/DataStorage/KoreaAI/ko-ner/101 movie/2012/20129388.csv',\n",
       " '/media/chatbot/DataStorage/KoreaAI/ko-ner/101 movie/2012/20128247.csv',\n",
       " '/media/chatbot/DataStorage/KoreaAI/ko-ner/101 movie/2012/20113743.csv',\n",
       " '/media/chatbot/DataStorage/KoreaAI/ko-ner/101 movie/2012/20124064.csv',\n",
       " '/media/chatbot/DataStorage/KoreaAI/ko-ner/101 movie/2012/20124049.csv',\n",
       " '/media/chatbot/DataStorage/KoreaAI/ko-ner/101 movie/2012/20113886.csv',\n",
       " '/media/chatbot/DataStorage/KoreaAI/ko-ner/101 movie/2012/20124399.csv',\n",
       " '/media/chatbot/DataStorage/KoreaAI/ko-ner/101 movie/2012/20126469.csv',\n",
       " '/media/chatbot/DataStorage/KoreaAI/ko-ner/101 movie/2012/20088506.csv',\n",
       " '/media/chatbot/DataStorage/KoreaAI/ko-ner/101 movie/2012/20113557.csv',\n",
       " '/media/chatbot/DataStorage/KoreaAI/ko-ner/101 movie/2012/20124629.csv',\n",
       " '/media/chatbot/DataStorage/KoreaAI/ko-ner/101 movie/2012/20124934.csv',\n",
       " '/media/chatbot/DataStorage/KoreaAI/ko-ner/101 movie/2012/20124142.csv',\n",
       " '/media/chatbot/DataStorage/KoreaAI/ko-ner/101 movie/2012/20127494.csv',\n",
       " '/media/chatbot/DataStorage/KoreaAI/ko-ner/101 movie/2012/20125426.csv',\n",
       " '/media/chatbot/DataStorage/KoreaAI/ko-ner/101 movie/2012/20125048.csv',\n",
       " '/media/chatbot/DataStorage/KoreaAI/ko-ner/101 movie/2012/20113533.csv',\n",
       " '/media/chatbot/DataStorage/KoreaAI/ko-ner/101 movie/2012/20113535.csv',\n",
       " '/media/chatbot/DataStorage/KoreaAI/ko-ner/101 movie/2012/20124348.csv',\n",
       " '/media/chatbot/DataStorage/KoreaAI/ko-ner/101 movie/2012/20124079.csv',\n",
       " '/media/chatbot/DataStorage/KoreaAI/ko-ner/101 movie/2012/20127401.csv',\n",
       " '/media/chatbot/DataStorage/KoreaAI/ko-ner/101 movie/2012/20125086.csv',\n",
       " '/media/chatbot/DataStorage/KoreaAI/ko-ner/101 movie/2012/20127546.csv',\n",
       " '/media/chatbot/DataStorage/KoreaAI/ko-ner/101 movie/2012/20112134.csv',\n",
       " '/media/chatbot/DataStorage/KoreaAI/ko-ner/101 movie/2012/20113653.csv',\n",
       " '/media/chatbot/DataStorage/KoreaAI/ko-ner/101 movie/2012/20100215.csv',\n",
       " '/media/chatbot/DataStorage/KoreaAI/ko-ner/101 movie/2012/20113916.csv',\n",
       " '/media/chatbot/DataStorage/KoreaAI/ko-ner/101 movie/2012/20124063.csv',\n",
       " '/media/chatbot/DataStorage/KoreaAI/ko-ner/101 movie/2012/20126448.csv',\n",
       " '/media/chatbot/DataStorage/KoreaAI/ko-ner/101 movie/2012/20124032.csv',\n",
       " '/media/chatbot/DataStorage/KoreaAI/ko-ner/101 movie/2012/20124127.csv',\n",
       " '/media/chatbot/DataStorage/KoreaAI/ko-ner/101 movie/2012/20124074.csv',\n",
       " '/media/chatbot/DataStorage/KoreaAI/ko-ner/101 movie/2012/20124039.csv',\n",
       " '/media/chatbot/DataStorage/KoreaAI/ko-ner/101 movie/2012/20125866.csv',\n",
       " '/media/chatbot/DataStorage/KoreaAI/ko-ner/101 movie/2012/20128270.csv',\n",
       " '/media/chatbot/DataStorage/KoreaAI/ko-ner/101 movie/2012/20126077.csv',\n",
       " '/media/chatbot/DataStorage/KoreaAI/ko-ner/101 movie/2012/20127108.csv',\n",
       " '/media/chatbot/DataStorage/KoreaAI/ko-ner/101 movie/2012/20124075.csv',\n",
       " '/media/chatbot/DataStorage/KoreaAI/ko-ner/101 movie/2012/20113532.csv',\n",
       " '/media/chatbot/DataStorage/KoreaAI/ko-ner/101 movie/2012/20124666.csv',\n",
       " '/media/chatbot/DataStorage/KoreaAI/ko-ner/101 movie/2012/20125338.csv',\n",
       " '/media/chatbot/DataStorage/KoreaAI/ko-ner/101 movie/2012/20124936.csv',\n",
       " '/media/chatbot/DataStorage/KoreaAI/ko-ner/101 movie/2012/20124717.csv',\n",
       " '/media/chatbot/DataStorage/KoreaAI/ko-ner/101 movie/2012/20124065.csv',\n",
       " '/media/chatbot/DataStorage/KoreaAI/ko-ner/101 movie/2012/20124080.csv',\n",
       " '/media/chatbot/DataStorage/KoreaAI/ko-ner/101 movie/2012/20113887.csv',\n",
       " '/media/chatbot/DataStorage/KoreaAI/ko-ner/101 movie/2012/20113461.csv',\n",
       " '/media/chatbot/DataStorage/KoreaAI/ko-ner/101 movie/2012/20113554.csv',\n",
       " '/media/chatbot/DataStorage/KoreaAI/ko-ner/101 movie/2012/20113862.csv',\n",
       " '/media/chatbot/DataStorage/KoreaAI/ko-ner/101 movie/2012/20124050.csv',\n",
       " '/media/chatbot/DataStorage/KoreaAI/ko-ner/101 movie/2012/20124420.csv',\n",
       " '/media/chatbot/DataStorage/KoreaAI/ko-ner/101 movie/2012/20124062.csv',\n",
       " '/media/chatbot/DataStorage/KoreaAI/ko-ner/101 movie/2012/20113745.csv',\n",
       " '/media/chatbot/DataStorage/KoreaAI/ko-ner/101 movie/2012/20110882.csv',\n",
       " '/media/chatbot/DataStorage/KoreaAI/ko-ner/101 movie/2012/20127306.csv',\n",
       " '/media/chatbot/DataStorage/KoreaAI/ko-ner/101 movie/2012/20126667.csv',\n",
       " '/media/chatbot/DataStorage/KoreaAI/ko-ner/101 movie/2012/20125916.csv',\n",
       " '/media/chatbot/DataStorage/KoreaAI/ko-ner/101 movie/2012/20126406.csv',\n",
       " '/media/chatbot/DataStorage/KoreaAI/ko-ner/101 movie/2012/20124400.csv',\n",
       " '/media/chatbot/DataStorage/KoreaAI/ko-ner/101 movie/2012/20110249.csv',\n",
       " '/media/chatbot/DataStorage/KoreaAI/ko-ner/101 movie/2012/20126686.csv',\n",
       " '/media/chatbot/DataStorage/KoreaAI/ko-ner/101 movie/2012/20124349.csv',\n",
       " '/media/chatbot/DataStorage/KoreaAI/ko-ner/101 movie/2012/20113671.csv',\n",
       " '/media/chatbot/DataStorage/KoreaAI/ko-ner/101 movie/2012/20128143.csv',\n",
       " '/media/chatbot/DataStorage/KoreaAI/ko-ner/101 movie/2012/20113951.csv',\n",
       " '/media/chatbot/DataStorage/KoreaAI/ko-ner/101 movie/2012/20128447.csv',\n",
       " '/media/chatbot/DataStorage/KoreaAI/ko-ner/101 movie/2012/20124054.csv',\n",
       " '/media/chatbot/DataStorage/KoreaAI/ko-ner/101 movie/2012/20113920.csv',\n",
       " '/media/chatbot/DataStorage/KoreaAI/ko-ner/101 movie/2012/20128274.csv']"
      ]
     },
     "execution_count": 27,
     "metadata": {},
     "output_type": "execute_result"
    }
   ],
   "source": [
    "allFiles"
   ]
  },
  {
   "cell_type": "code",
   "execution_count": 40,
   "metadata": {},
   "outputs": [],
   "source": [
    "for file_ in allFiles:\n",
    "    df = pd.read_csv(file_,index_col=None, header=0, sep='\\t')\n",
    "    list_.append(df)\n",
    "\n",
    "allFiles = glob.glob(path + \"/*.csv\")"
   ]
  },
  {
   "cell_type": "code",
   "execution_count": 10,
   "metadata": {},
   "outputs": [
    {
     "ename": "FileNotFoundError",
     "evalue": "File b'101 Movie/2012/*.csv' does not exist",
     "output_type": "error",
     "traceback": [
      "\u001b[0;31m---------------------------------------------------------------------------\u001b[0m",
      "\u001b[0;31mFileNotFoundError\u001b[0m                         Traceback (most recent call last)",
      "\u001b[0;32m<ipython-input-10-3d65f364783a>\u001b[0m in \u001b[0;36m<module>\u001b[0;34m\u001b[0m\n\u001b[0;32m----> 1\u001b[0;31m \u001b[0mx_data\u001b[0m \u001b[0;34m=\u001b[0m \u001b[0mpd\u001b[0m\u001b[0;34m.\u001b[0m\u001b[0mread_csv\u001b[0m\u001b[0;34m(\u001b[0m\u001b[0;34m'101 Movie/2012/*.csv'\u001b[0m\u001b[0;34m,\u001b[0m\u001b[0mnames\u001b[0m\u001b[0;34m=\u001b[0m\u001b[0;34m[\u001b[0m\u001b[0;34m'sentence'\u001b[0m\u001b[0;34m,\u001b[0m \u001b[0;34m'intent'\u001b[0m\u001b[0;34m,\u001b[0m\u001b[0;34m'a'\u001b[0m\u001b[0;34m,\u001b[0m\u001b[0;34m'b'\u001b[0m\u001b[0;34m]\u001b[0m\u001b[0;34m,\u001b[0m \u001b[0msep\u001b[0m\u001b[0;34m=\u001b[0m\u001b[0;34m'\\t'\u001b[0m\u001b[0;34m)\u001b[0m\u001b[0;34m\u001b[0m\u001b[0;34m\u001b[0m\u001b[0m\n\u001b[0m",
      "\u001b[0;32m~/anaconda3/envs/mxnet/lib/python3.6/site-packages/pandas/io/parsers.py\u001b[0m in \u001b[0;36mparser_f\u001b[0;34m(filepath_or_buffer, sep, delimiter, header, names, index_col, usecols, squeeze, prefix, mangle_dupe_cols, dtype, engine, converters, true_values, false_values, skipinitialspace, skiprows, nrows, na_values, keep_default_na, na_filter, verbose, skip_blank_lines, parse_dates, infer_datetime_format, keep_date_col, date_parser, dayfirst, iterator, chunksize, compression, thousands, decimal, lineterminator, quotechar, quoting, escapechar, comment, encoding, dialect, tupleize_cols, error_bad_lines, warn_bad_lines, skipfooter, doublequote, delim_whitespace, low_memory, memory_map, float_precision)\u001b[0m\n\u001b[1;32m    676\u001b[0m                     skip_blank_lines=skip_blank_lines)\n\u001b[1;32m    677\u001b[0m \u001b[0;34m\u001b[0m\u001b[0m\n\u001b[0;32m--> 678\u001b[0;31m         \u001b[0;32mreturn\u001b[0m \u001b[0m_read\u001b[0m\u001b[0;34m(\u001b[0m\u001b[0mfilepath_or_buffer\u001b[0m\u001b[0;34m,\u001b[0m \u001b[0mkwds\u001b[0m\u001b[0;34m)\u001b[0m\u001b[0;34m\u001b[0m\u001b[0;34m\u001b[0m\u001b[0m\n\u001b[0m\u001b[1;32m    679\u001b[0m \u001b[0;34m\u001b[0m\u001b[0m\n\u001b[1;32m    680\u001b[0m     \u001b[0mparser_f\u001b[0m\u001b[0;34m.\u001b[0m\u001b[0m__name__\u001b[0m \u001b[0;34m=\u001b[0m \u001b[0mname\u001b[0m\u001b[0;34m\u001b[0m\u001b[0;34m\u001b[0m\u001b[0m\n",
      "\u001b[0;32m~/anaconda3/envs/mxnet/lib/python3.6/site-packages/pandas/io/parsers.py\u001b[0m in \u001b[0;36m_read\u001b[0;34m(filepath_or_buffer, kwds)\u001b[0m\n\u001b[1;32m    438\u001b[0m \u001b[0;34m\u001b[0m\u001b[0m\n\u001b[1;32m    439\u001b[0m     \u001b[0;31m# Create the parser.\u001b[0m\u001b[0;34m\u001b[0m\u001b[0;34m\u001b[0m\u001b[0;34m\u001b[0m\u001b[0m\n\u001b[0;32m--> 440\u001b[0;31m     \u001b[0mparser\u001b[0m \u001b[0;34m=\u001b[0m \u001b[0mTextFileReader\u001b[0m\u001b[0;34m(\u001b[0m\u001b[0mfilepath_or_buffer\u001b[0m\u001b[0;34m,\u001b[0m \u001b[0;34m**\u001b[0m\u001b[0mkwds\u001b[0m\u001b[0;34m)\u001b[0m\u001b[0;34m\u001b[0m\u001b[0;34m\u001b[0m\u001b[0m\n\u001b[0m\u001b[1;32m    441\u001b[0m \u001b[0;34m\u001b[0m\u001b[0m\n\u001b[1;32m    442\u001b[0m     \u001b[0;32mif\u001b[0m \u001b[0mchunksize\u001b[0m \u001b[0;32mor\u001b[0m \u001b[0miterator\u001b[0m\u001b[0;34m:\u001b[0m\u001b[0;34m\u001b[0m\u001b[0;34m\u001b[0m\u001b[0m\n",
      "\u001b[0;32m~/anaconda3/envs/mxnet/lib/python3.6/site-packages/pandas/io/parsers.py\u001b[0m in \u001b[0;36m__init__\u001b[0;34m(self, f, engine, **kwds)\u001b[0m\n\u001b[1;32m    785\u001b[0m             \u001b[0mself\u001b[0m\u001b[0;34m.\u001b[0m\u001b[0moptions\u001b[0m\u001b[0;34m[\u001b[0m\u001b[0;34m'has_index_names'\u001b[0m\u001b[0;34m]\u001b[0m \u001b[0;34m=\u001b[0m \u001b[0mkwds\u001b[0m\u001b[0;34m[\u001b[0m\u001b[0;34m'has_index_names'\u001b[0m\u001b[0;34m]\u001b[0m\u001b[0;34m\u001b[0m\u001b[0;34m\u001b[0m\u001b[0m\n\u001b[1;32m    786\u001b[0m \u001b[0;34m\u001b[0m\u001b[0m\n\u001b[0;32m--> 787\u001b[0;31m         \u001b[0mself\u001b[0m\u001b[0;34m.\u001b[0m\u001b[0m_make_engine\u001b[0m\u001b[0;34m(\u001b[0m\u001b[0mself\u001b[0m\u001b[0;34m.\u001b[0m\u001b[0mengine\u001b[0m\u001b[0;34m)\u001b[0m\u001b[0;34m\u001b[0m\u001b[0;34m\u001b[0m\u001b[0m\n\u001b[0m\u001b[1;32m    788\u001b[0m \u001b[0;34m\u001b[0m\u001b[0m\n\u001b[1;32m    789\u001b[0m     \u001b[0;32mdef\u001b[0m \u001b[0mclose\u001b[0m\u001b[0;34m(\u001b[0m\u001b[0mself\u001b[0m\u001b[0;34m)\u001b[0m\u001b[0;34m:\u001b[0m\u001b[0;34m\u001b[0m\u001b[0;34m\u001b[0m\u001b[0m\n",
      "\u001b[0;32m~/anaconda3/envs/mxnet/lib/python3.6/site-packages/pandas/io/parsers.py\u001b[0m in \u001b[0;36m_make_engine\u001b[0;34m(self, engine)\u001b[0m\n\u001b[1;32m   1012\u001b[0m     \u001b[0;32mdef\u001b[0m \u001b[0m_make_engine\u001b[0m\u001b[0;34m(\u001b[0m\u001b[0mself\u001b[0m\u001b[0;34m,\u001b[0m \u001b[0mengine\u001b[0m\u001b[0;34m=\u001b[0m\u001b[0;34m'c'\u001b[0m\u001b[0;34m)\u001b[0m\u001b[0;34m:\u001b[0m\u001b[0;34m\u001b[0m\u001b[0;34m\u001b[0m\u001b[0m\n\u001b[1;32m   1013\u001b[0m         \u001b[0;32mif\u001b[0m \u001b[0mengine\u001b[0m \u001b[0;34m==\u001b[0m \u001b[0;34m'c'\u001b[0m\u001b[0;34m:\u001b[0m\u001b[0;34m\u001b[0m\u001b[0;34m\u001b[0m\u001b[0m\n\u001b[0;32m-> 1014\u001b[0;31m             \u001b[0mself\u001b[0m\u001b[0;34m.\u001b[0m\u001b[0m_engine\u001b[0m \u001b[0;34m=\u001b[0m \u001b[0mCParserWrapper\u001b[0m\u001b[0;34m(\u001b[0m\u001b[0mself\u001b[0m\u001b[0;34m.\u001b[0m\u001b[0mf\u001b[0m\u001b[0;34m,\u001b[0m \u001b[0;34m**\u001b[0m\u001b[0mself\u001b[0m\u001b[0;34m.\u001b[0m\u001b[0moptions\u001b[0m\u001b[0;34m)\u001b[0m\u001b[0;34m\u001b[0m\u001b[0;34m\u001b[0m\u001b[0m\n\u001b[0m\u001b[1;32m   1015\u001b[0m         \u001b[0;32melse\u001b[0m\u001b[0;34m:\u001b[0m\u001b[0;34m\u001b[0m\u001b[0;34m\u001b[0m\u001b[0m\n\u001b[1;32m   1016\u001b[0m             \u001b[0;32mif\u001b[0m \u001b[0mengine\u001b[0m \u001b[0;34m==\u001b[0m \u001b[0;34m'python'\u001b[0m\u001b[0;34m:\u001b[0m\u001b[0;34m\u001b[0m\u001b[0;34m\u001b[0m\u001b[0m\n",
      "\u001b[0;32m~/anaconda3/envs/mxnet/lib/python3.6/site-packages/pandas/io/parsers.py\u001b[0m in \u001b[0;36m__init__\u001b[0;34m(self, src, **kwds)\u001b[0m\n\u001b[1;32m   1706\u001b[0m         \u001b[0mkwds\u001b[0m\u001b[0;34m[\u001b[0m\u001b[0;34m'usecols'\u001b[0m\u001b[0;34m]\u001b[0m \u001b[0;34m=\u001b[0m \u001b[0mself\u001b[0m\u001b[0;34m.\u001b[0m\u001b[0musecols\u001b[0m\u001b[0;34m\u001b[0m\u001b[0;34m\u001b[0m\u001b[0m\n\u001b[1;32m   1707\u001b[0m \u001b[0;34m\u001b[0m\u001b[0m\n\u001b[0;32m-> 1708\u001b[0;31m         \u001b[0mself\u001b[0m\u001b[0;34m.\u001b[0m\u001b[0m_reader\u001b[0m \u001b[0;34m=\u001b[0m \u001b[0mparsers\u001b[0m\u001b[0;34m.\u001b[0m\u001b[0mTextReader\u001b[0m\u001b[0;34m(\u001b[0m\u001b[0msrc\u001b[0m\u001b[0;34m,\u001b[0m \u001b[0;34m**\u001b[0m\u001b[0mkwds\u001b[0m\u001b[0;34m)\u001b[0m\u001b[0;34m\u001b[0m\u001b[0;34m\u001b[0m\u001b[0m\n\u001b[0m\u001b[1;32m   1709\u001b[0m \u001b[0;34m\u001b[0m\u001b[0m\n\u001b[1;32m   1710\u001b[0m         \u001b[0mpassed_names\u001b[0m \u001b[0;34m=\u001b[0m \u001b[0mself\u001b[0m\u001b[0;34m.\u001b[0m\u001b[0mnames\u001b[0m \u001b[0;32mis\u001b[0m \u001b[0;32mNone\u001b[0m\u001b[0;34m\u001b[0m\u001b[0;34m\u001b[0m\u001b[0m\n",
      "\u001b[0;32mpandas/_libs/parsers.pyx\u001b[0m in \u001b[0;36mpandas._libs.parsers.TextReader.__cinit__\u001b[0;34m()\u001b[0m\n",
      "\u001b[0;32mpandas/_libs/parsers.pyx\u001b[0m in \u001b[0;36mpandas._libs.parsers.TextReader._setup_parser_source\u001b[0;34m()\u001b[0m\n",
      "\u001b[0;31mFileNotFoundError\u001b[0m: File b'101 Movie/2012/*.csv' does not exist"
     ]
    }
   ],
   "source": [
    "x_data = pd.read_csv('101 Movie/2012/*.csv',names=['sentence', 'intent','a','b'], sep='\\t')"
   ]
  },
  {
   "cell_type": "code",
   "execution_count": 8,
   "metadata": {},
   "outputs": [
    {
     "ename": "FileNotFoundError",
     "evalue": "[Errno 2] No such file or directory: 'raw_train.txt'",
     "output_type": "error",
     "traceback": [
      "\u001b[0;31m---------------------------------------------------------------------------\u001b[0m",
      "\u001b[0;31mFileNotFoundError\u001b[0m                         Traceback (most recent call last)",
      "\u001b[0;32m<ipython-input-8-cae960323f82>\u001b[0m in \u001b[0;36m<module>\u001b[0;34m\u001b[0m\n\u001b[0;32m----> 1\u001b[0;31m \u001b[0mraw2corpus\u001b[0m\u001b[0;34m(\u001b[0m\u001b[0;34m'raw_train.txt'\u001b[0m\u001b[0;34m,\u001b[0m \u001b[0;34m'train.txt'\u001b[0m\u001b[0;34m)\u001b[0m  \u001b[0;31m# raw_train.txt에 뭔가 긴 글이 있음\u001b[0m\u001b[0;34m\u001b[0m\u001b[0;34m\u001b[0m\u001b[0m\n\u001b[0m",
      "\u001b[0;32m<ipython-input-7-c96fdfce5f6a>\u001b[0m in \u001b[0;36mraw2corpus\u001b[0;34m(raw_path, corpus_path)\u001b[0m\n\u001b[1;32m      6\u001b[0m \u001b[0;34m\u001b[0m\u001b[0m\n\u001b[1;32m      7\u001b[0m \u001b[0;32mdef\u001b[0m \u001b[0mraw2corpus\u001b[0m\u001b[0;34m(\u001b[0m\u001b[0mraw_path\u001b[0m\u001b[0;34m,\u001b[0m \u001b[0mcorpus_path\u001b[0m\u001b[0;34m)\u001b[0m\u001b[0;34m:\u001b[0m\u001b[0;34m\u001b[0m\u001b[0;34m\u001b[0m\u001b[0m\n\u001b[0;32m----> 8\u001b[0;31m     \u001b[0mraw\u001b[0m \u001b[0;34m=\u001b[0m \u001b[0mcodecs\u001b[0m\u001b[0;34m.\u001b[0m\u001b[0mopen\u001b[0m\u001b[0;34m(\u001b[0m\u001b[0mraw_path\u001b[0m\u001b[0;34m,\u001b[0m \u001b[0mencoding\u001b[0m\u001b[0;34m=\u001b[0m\u001b[0;34m'utf-8'\u001b[0m\u001b[0;34m)\u001b[0m\u001b[0;34m\u001b[0m\u001b[0;34m\u001b[0m\u001b[0m\n\u001b[0m\u001b[1;32m      9\u001b[0m     \u001b[0mraw_sentences\u001b[0m \u001b[0;34m=\u001b[0m \u001b[0mraw\u001b[0m\u001b[0;34m.\u001b[0m\u001b[0mread\u001b[0m\u001b[0;34m(\u001b[0m\u001b[0;34m)\u001b[0m\u001b[0;34m.\u001b[0m\u001b[0msplit\u001b[0m\u001b[0;34m(\u001b[0m\u001b[0;34m'\\n'\u001b[0m\u001b[0;34m)\u001b[0m\u001b[0;34m\u001b[0m\u001b[0;34m\u001b[0m\u001b[0m\n\u001b[1;32m     10\u001b[0m     \u001b[0mcorpus\u001b[0m \u001b[0;34m=\u001b[0m \u001b[0mcodecs\u001b[0m\u001b[0;34m.\u001b[0m\u001b[0mopen\u001b[0m\u001b[0;34m(\u001b[0m\u001b[0mcorpus_path\u001b[0m\u001b[0;34m,\u001b[0m \u001b[0;34m'w'\u001b[0m\u001b[0;34m,\u001b[0m \u001b[0mencoding\u001b[0m\u001b[0;34m=\u001b[0m\u001b[0;34m'utf-8'\u001b[0m\u001b[0;34m)\u001b[0m\u001b[0;34m\u001b[0m\u001b[0;34m\u001b[0m\u001b[0m\n",
      "\u001b[0;32m~/anaconda3/envs/mxnet/lib/python3.6/codecs.py\u001b[0m in \u001b[0;36mopen\u001b[0;34m(filename, mode, encoding, errors, buffering)\u001b[0m\n\u001b[1;32m    895\u001b[0m         \u001b[0;31m# Force opening of the file in binary mode\u001b[0m\u001b[0;34m\u001b[0m\u001b[0;34m\u001b[0m\u001b[0;34m\u001b[0m\u001b[0m\n\u001b[1;32m    896\u001b[0m         \u001b[0mmode\u001b[0m \u001b[0;34m=\u001b[0m \u001b[0mmode\u001b[0m \u001b[0;34m+\u001b[0m \u001b[0;34m'b'\u001b[0m\u001b[0;34m\u001b[0m\u001b[0;34m\u001b[0m\u001b[0m\n\u001b[0;32m--> 897\u001b[0;31m     \u001b[0mfile\u001b[0m \u001b[0;34m=\u001b[0m \u001b[0mbuiltins\u001b[0m\u001b[0;34m.\u001b[0m\u001b[0mopen\u001b[0m\u001b[0;34m(\u001b[0m\u001b[0mfilename\u001b[0m\u001b[0;34m,\u001b[0m \u001b[0mmode\u001b[0m\u001b[0;34m,\u001b[0m \u001b[0mbuffering\u001b[0m\u001b[0;34m)\u001b[0m\u001b[0;34m\u001b[0m\u001b[0;34m\u001b[0m\u001b[0m\n\u001b[0m\u001b[1;32m    898\u001b[0m     \u001b[0;32mif\u001b[0m \u001b[0mencoding\u001b[0m \u001b[0;32mis\u001b[0m \u001b[0;32mNone\u001b[0m\u001b[0;34m:\u001b[0m\u001b[0;34m\u001b[0m\u001b[0;34m\u001b[0m\u001b[0m\n\u001b[1;32m    899\u001b[0m         \u001b[0;32mreturn\u001b[0m \u001b[0mfile\u001b[0m\u001b[0;34m\u001b[0m\u001b[0;34m\u001b[0m\u001b[0m\n",
      "\u001b[0;31mFileNotFoundError\u001b[0m: [Errno 2] No such file or directory: 'raw_train.txt'"
     ]
    }
   ],
   "source": [
    "raw2corpus('raw_train.txt', 'train.txt')  # raw_train.txt에 뭔가 긴 글이 있음"
   ]
  },
  {
   "cell_type": "code",
   "execution_count": null,
   "metadata": {},
   "outputs": [],
   "source": []
  }
 ],
 "metadata": {
  "kernelspec": {
   "display_name": "Python 3",
   "language": "python",
   "name": "python3"
  },
  "language_info": {
   "codemirror_mode": {
    "name": "ipython",
    "version": 3
   },
   "file_extension": ".py",
   "mimetype": "text/x-python",
   "name": "python",
   "nbconvert_exporter": "python",
   "pygments_lexer": "ipython3",
   "version": "3.6.7"
  }
 },
 "nbformat": 4,
 "nbformat_minor": 2
}
